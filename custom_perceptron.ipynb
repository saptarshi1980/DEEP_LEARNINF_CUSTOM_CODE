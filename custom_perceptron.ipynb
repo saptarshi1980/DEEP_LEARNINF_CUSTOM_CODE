{
  "nbformat": 4,
  "nbformat_minor": 0,
  "metadata": {
    "colab": {
      "provenance": []
    },
    "kernelspec": {
      "name": "python3",
      "display_name": "Python 3"
    },
    "language_info": {
      "name": "python"
    }
  },
  "cells": [
    {
      "cell_type": "code",
      "execution_count": 2,
      "metadata": {
        "colab": {
          "base_uri": "https://localhost:8080/"
        },
        "id": "6LzNWIXr0h1s",
        "outputId": "0f86eee2-bfa4-4ce5-b768-3308c82ca098"
      },
      "outputs": [
        {
          "output_type": "stream",
          "name": "stdout",
          "text": [
            "Predictions: [-1 -1 -1 -1]\n"
          ]
        }
      ],
      "source": [
        "import numpy as np\n",
        "\n",
        "class CustomPerceptron:\n",
        "    def __init__(self, eta=1.0, max_iter=1000):\n",
        "        self.eta = eta\n",
        "        self.max_iter = max_iter\n",
        "        self.weights_ = None\n",
        "        self.bias_ = None\n",
        "\n",
        "    def fit(self, X, y):\n",
        "        n_samples, n_features = X.shape\n",
        "        self.weights_ = np.zeros(n_features)\n",
        "        self.bias_ = 0\n",
        "\n",
        "        for _ in range(self.max_iter):\n",
        "            for idx, x_i in enumerate(X):\n",
        "                linear_output = np.dot(x_i, self.weights_) + self.bias_\n",
        "                y_pred = np.where(linear_output >= 0, 1, -1)\n",
        "                update = self.eta * (y[idx] - y_pred)\n",
        "                self.weights_ += update * x_i\n",
        "                self.bias_ += update\n",
        "\n",
        "    def predict(self, X):\n",
        "        linear_output = np.dot(X, self.weights_) + self.bias_\n",
        "        return np.where(linear_output >= 0, 1, -1)\n",
        "\n",
        "# Example usage\n",
        "if __name__ == \"__main__\":\n",
        "    # Sample data\n",
        "    X = np.array([[1, 1], [2, 2], [3, 3], [4, 4]])\n",
        "    y = np.array([1, 1, -1, -1])\n",
        "\n",
        "    # Initialize and train the perceptron\n",
        "    perceptron = CustomPerceptron(eta=0.1, max_iter=10)\n",
        "    perceptron.fit(X, y)\n",
        "\n",
        "    # Predict\n",
        "    predictions = perceptron.predict(X)\n",
        "    print(\"Predictions:\", predictions)\n"
      ]
    },
    {
      "cell_type": "code",
      "source": [
        "print(perceptron.weights_)\n",
        "print(perceptron.bias_)"
      ],
      "metadata": {
        "colab": {
          "base_uri": "https://localhost:8080/"
        },
        "id": "_byEYjR60mCa",
        "outputId": "2552fe23-cb1c-46b0-d18e-308e29016fda"
      },
      "execution_count": 3,
      "outputs": [
        {
          "output_type": "stream",
          "name": "stdout",
          "text": [
            "[-0.8 -0.8]\n",
            "1.4\n"
          ]
        }
      ]
    },
    {
      "cell_type": "code",
      "source": [],
      "metadata": {
        "id": "6SGW03rN1Btz"
      },
      "execution_count": null,
      "outputs": []
    }
  ]
}